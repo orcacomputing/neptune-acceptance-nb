{
 "cells": [
  {
   "cell_type": "markdown",
   "metadata": {},
   "source": [
    "# Neptune acceptance notebook\n",
    "\n",
    "This notebook runs high-level acceptance tests and demonstrations for the Neptune Testbed systems. Each test measures various photon rates and fidelities in the system, compares these to the acceptance criteria, and returns PASS or FAIL for each test. The Neptune System has three different types of quantum light source available to the user. This notebook tests all three. The other acceptance criteria such as g2 etc. are presented in accompanying acceptance appendices. \n",
    "\n",
    "This notebook requires the ORCA SDK to be installed on the computer running this notebook."
   ]
  },
  {
   "cell_type": "code",
   "execution_count": null,
   "metadata": {},
   "outputs": [],
   "source": [
    "import time\n",
    "import matplotlib.pyplot as plt\n",
    "import numpy as np\n",
    "import sys\n",
    "\n",
    "\n",
    "# from ptseries.tbi import create_tbi"
   ]
  },
  {
   "cell_type": "markdown",
   "metadata": {},
   "source": [
    "### Acceptance criteria\n",
    "\n",
    "The following cells define the acceptance critera for each quantum light source, as laid out in the sytem test and validation document."
   ]
  },
  {
   "cell_type": "code",
   "execution_count": null,
   "metadata": {},
   "outputs": [],
   "source": [
    "ACCEPTANCE_RATES_1_PHOTON = 300  # Min rate at which we measure 1-photon events\n",
    "ACCEPTANCE_RATES_2_PHOTON = 30  # Min rate at which we measure 2-photon events\n",
    "ACCEPTANCE_RATES_3_PHOTON = 3  # Min rate at which we measure 3-photon events\n",
    "ACCEPTANCE_RATES_4_PHOTON = 0.1  # Min rate at which we measure 4-photon events\n",
    "\n",
    "ACCEPTANCE_ACCURACY_1_PHOTON = 90  # Percentage of 1000 states measured when input state is 1000 and identity is applied\n",
    "ACCEPTANCE_ACCURACY_1_PHOTON_ROUTING = 60  # Percentage of 0001 states measured when input state is 1000 and swaps are applied\n",
    "ACCEPTANCE_ACCURACY_2_PHOTON = 40  # Percentage of 1100 states measured when input state is 1100 and identity is applied\n",
    "\n",
    "qd_acceptance_targets = {\"ACCEPTANCE_RATES_1_PHOTON\": 300,\n",
    "                        \"ACCEPTANCE_RATES_2_PHOTON\": 30,\n",
    "                        \"ACCEPTANCE_RATES_3_PHOTON\": 3,\n",
    "                        \"ACCEPTANCE_RATES_4_PHOTON\": 1,\n",
    "                        \"ACCEPTANCE_RATES_5_PHOTON\" : 1,\n",
    "                        \"ACCEPTANCE_ACCURACY_1_PHOTON\": 90,\n",
    "                        \"ACCEPTANCE_ACCURACY_1_PHOTON_ROUTING:\": 60,\n",
    "                        \"ACCEPTANCE_ACCURACY_2_PHOTON\": 40,\n",
    "                        }\n",
    "\n",
    "hsps_acceptance_targets = {\"ACCEPTANCE_RATES_1_PHOTON\": 300,\n",
    "                        \"ACCEPTANCE_RATES_2_PHOTON\": 30,\n",
    "                        \"ACCEPTANCE_RATES_3_PHOTON\": 3,\n",
    "                        \"ACCEPTANCE_RATES_4_PHOTON\": 0.1,\n",
    "                        \"ACCEPTANCE_ACCURACY_1_PHOTON\": 90,\n",
    "                        \"ACCEPTANCE_ACCURACY_1_PHOTON_ROUTING:\": 60,\n",
    "                        \"ACCEPTANCE_ACCURACY_2_PHOTON\": 40,\n",
    "                        }\n",
    "\n",
    "smsv_acceptance_targets = {\"ACCEPTANCE_RATES_1_PHOTON\": 300,\n",
    "                        \"ACCEPTANCE_RATES_2_PHOTON\": 30,\n",
    "                        \"ACCEPTANCE_RATES_3_PHOTON\": 3,\n",
    "                        \"ACCEPTANCE_RATES_4_PHOTON\": 1,\n",
    "                        \"ACCEPTANCE_RATES_5_PHOTON\": 1,\n",
    "                        }\n"
   ]
  },
  {
   "cell_type": "markdown",
   "metadata": {},
   "source": [
    "# Notebook Set-Up\n",
    "\n",
    "In the following cells we call-out some settings required for further on in the notebook and instantiate two instances of the PT System, one for the HSPS and SMSV and a second for the QD lgiht source. We also define some helper functions here for some simple plots of the data returned from the machine."
   ]
  },
  {
   "cell_type": "markdown",
   "metadata": {},
   "source": [
    "Here, we set how many samples are collected for the different number of photons. As the rates decrease with higher photon numbers, we collect fewer samples for higher photon numbers. Due to sampling overheads we need to ensure we ask for a significantly large number of samples for jobs that return quickly to avoid the results being skewed. "
   ]
  },
  {
   "cell_type": "code",
   "execution_count": null,
   "metadata": {},
   "outputs": [],
   "source": [
    "N_SAMPLES = {\n",
    "    1: 3000,  # Number of samples to collect for 1 photon\n",
    "    2: 1000,  # Number of samples to collect for 2 photons\n",
    "    3: 100,  # Number of samples to collect for 3 photons\n",
    "    4: 20,  # Number of samples to collect for 4 photons\n",
    "}"
   ]
  },
  {
   "cell_type": "markdown",
   "metadata": {},
   "source": [
    "In the following cell we instantiate two instances of the PT System hardware, please change the url to match the IP addresses of the target machines. In the Neptune system, the smsv source and hsps source are accessed at the same IP address and use the same underlying hardware. The quantum dot source is accessed at a separate IP address. Note that you may need to append the port number \":8080\""
   ]
  },
  {
   "cell_type": "code",
   "execution_count": null,
   "metadata": {},
   "outputs": [],
   "source": [
    "telecom_rack_tbi = create_tbi(tbi_type=\"PT-1\", url=\"http://XXX.XXX.X.XXX:8080\")  # SDK version 2.5.6 or greater\n",
    "\n",
    "qd_rack_tbi = create_tbi(tbi_type=\"PT-1\", url=\"http://XXX.XXX.X.XXX:8080\")  # SDK version 2.5.6 or greater\n",
    "\n",
    "\n",
    "# tbi = create_tbi(tbi_type=\"PT-1\", ip_address=\"0.0.0.0\")  # SDK version 2.5.5 or under"
   ]
  },
  {
   "cell_type": "markdown",
   "metadata": {},
   "source": [
    "In the next cell we create two helper functions, one to estimate the photon rates returned by our sampling jobs and a second to plot the sample distributions returned."
   ]
  },
  {
   "cell_type": "code",
   "execution_count": null,
   "metadata": {},
   "outputs": [],
   "source": [
    "def estimate_statistics(tbi, input_state, theta_list, n_samples, overhead_time):\n",
    "    \"\"\"This function runs an experiment on a particular tbi and\n",
    "    returns the number of samples effectively collected, the rates, the accuracy,\n",
    "    the time taken to collect the samples, and the samples themselves\"\"\"\n",
    "\n",
    "    start_time = time.time()\n",
    "    samples = tbi.sample(\n",
    "        input_state=input_state, theta_list=theta_list, n_samples=n_samples\n",
    "    )\n",
    "    request_time = max([time.time() - start_time - overhead_time_with_margin, 0.1])\n",
    "\n",
    "    rates = n_samples / request_time\n",
    "    target_state = samples.get(input_state, 0)\n",
    "    accuracy = 100 - 100 * (n_samples - target_state) / n_samples\n",
    "\n",
    "    return n_samples, rates, accuracy, request_time, samples\n",
    "\n",
    "\n",
    "def plot(\n",
    "    samples,\n",
    "    show_plot=False,\n",
    "    title=\"Counts Data\",\n",
    "):\n",
    "    ## Create a bar plot\n",
    "    keys = [\"\".join(map(str, key)) for key in samples.keys()]\n",
    "    values = list(samples.values())\n",
    "    fig = plt.figure(figsize=(6, 4), dpi=200)\n",
    "    plt.bar(keys, values)\n",
    "    plt.xticks(rotation=90, fontsize=4)\n",
    "    # Add labels and title\n",
    "    plt.xlabel(\"Output state\")\n",
    "    plt.ylabel(\"Occurences\")\n",
    "    plt.title(f\"{title}\")\n",
    "    ## Show the plot\n",
    "    if show_plot:\n",
    "        plt.show()"
   ]
  },
  {
   "cell_type": "markdown",
   "metadata": {},
   "source": [
    "# A1: Quantum Dot Acceptance Test\n",
    "\n",
    "The following cells will test the performance of the Quantum Dot light source Boson Sampling System."
   ]
  },
  {
   "cell_type": "markdown",
   "metadata": {},
   "source": [
    "This cell runs a single sample request for 1 photon. This eliminates any overheads due to re-calibration of the quantum processors or just in time compilation."
   ]
  },
  {
   "cell_type": "code",
   "execution_count": null,
   "metadata": {},
   "outputs": [],
   "source": [
    "qd_rack_tbi.sample(input_state=(1,0), theta_list=[0])"
   ]
  },
  {
   "cell_type": "markdown",
   "metadata": {},
   "source": [
    "The following cell estimates any additional overheads for sampling jobs, which we account for in our rates calculations"
   ]
  },
  {
   "cell_type": "code",
   "execution_count": null,
   "metadata": {},
   "outputs": [],
   "source": [
    "start_time = time.time()\n",
    "qd_rack_tbi.sample(input_state=(1, 0), theta_list=[0])\n",
    "overhead_time = time.time() - start_time\n",
    "overhead_time_with_margin = max([overhead_time - 1, 0])\n",
    "\n",
    "print(f\"Overhead time for QD sampling is {overhead_time:.2f}s\")\n",
    "print(f\"Reducing to {overhead_time_with_margin:.2f}s to leave a margin of error\")"
   ]
  },
  {
   "cell_type": "markdown",
   "metadata": {},
   "source": [
    "## A1.1 One photon rate and accuracy acceptance tests\n",
    "\n",
    "All the acceptance tests run using the circuit below, shown here with a 1000 input state."
   ]
  },
  {
   "cell_type": "code",
   "execution_count": null,
   "metadata": {},
   "outputs": [],
   "source": [
    "qd_rack_tbi.draw(input_state=(1,0,0,0))"
   ]
  },
  {
   "cell_type": "code",
   "execution_count": null,
   "metadata": {},
   "outputs": [],
   "source": [
    "input_state_1_photons = (1,0,0,0)\n",
    "theta_list_1_photons = [0,0,0]  # Sets the circuit to identity\n",
    "n_samples_1_photons = N_SAMPLES[1]\n",
    "\n",
    "outputs_1_photons = estimate_statistics(\n",
    "    tbi = qd_rack_tbi,\n",
    "    input_state = input_state_1_photons,\n",
    "    theta_list = theta_list_1_photons,\n",
    "    n_samples = n_samples_1_photons,\n",
    "    overhead_time = overhead_time_with_margin\n",
    ")\n",
    "\n",
    "n_samples_collected_1_photons = outputs_1_photons[0]\n",
    "rates_1_photons = outputs_1_photons[1]\n",
    "accuracy_1_photons = outputs_1_photons[2]\n",
    "request_time_1_photons = outputs_1_photons[3]\n",
    "samples_1_photons = outputs_1_photons[4]\n",
    "\n",
    "print(f\"{n_samples_1_photons} samples collected!\")"
   ]
  },
  {
   "cell_type": "code",
   "execution_count": null,
   "metadata": {},
   "outputs": [],
   "source": [
    "print(\"============= 1 Photon Data ======================\")\n",
    "print(f\"{n_samples_collected_1_photons} samples collected in {request_time_1_photons:.2f} seconds\")\n",
    "print(f\"1 photon rate is {rates_1_photons:.0f} Hz\")\n",
    "print(f\"1 photon accuracy is {accuracy_1_photons:.0f} %\")\n",
    "plot(samples_1_photons)"
   ]
  },
  {
   "cell_type": "code",
   "execution_count": null,
   "metadata": {},
   "outputs": [],
   "source": [
    "if rates_1_photons > qd_acceptance_targets[\"ACCEPTANCE_RATES_1_PHOTON\"]:\n",
    "    print(\"Acceptance test passed for 1 photon rate: PASS\")\n",
    "else:\n",
    "    print(\"Acceptance test passed for 1 photon rate: FAIL\")\n",
    "\n",
    "if accuracy_1_photons > qd_acceptance_targets[\"ACCEPTANCE_ACCURACY_1_PHOTON\"]:\n",
    "    print(\"Acceptance test passed for 1 photon accuracy: PASS\")\n",
    "else:\n",
    "    print(\"Acceptance test passed for 1 photon accuracy: FAIL\")"
   ]
  },
  {
   "cell_type": "markdown",
   "metadata": {},
   "source": [
    "## A1.2 One photon routing acceptance test\n",
    "Sending input state [1,0,0,0] and all beam splitters to pi/2, this will route the photon from the first qumode to the last qumode in the sample. We measure how often we get target state [0,0,0,1]"
   ]
  },
  {
   "cell_type": "code",
   "execution_count": null,
   "metadata": {},
   "outputs": [],
   "source": [
    "samples_routing = qd_rack_tbi.sample(\n",
    "    input_state=(1, 0, 0, 0), theta_list=3 * [np.pi / 2], n_samples=N_SAMPLES[1]  # Sets all circuit elements to swap\n",
    ")\n",
    "\n",
    "n_samples_routing = sum(samples_routing.values())\n",
    "n_target_samples = samples_routing.get((0,0,0,1), 0)\n",
    "routing_accuracy = 100*n_target_samples/n_samples_routing\n",
    "\n",
    "print(\"============= Photon Routing Data ======================\")\n",
    "print(f\"Photon routing accuracy is {routing_accuracy:.0f} %\")\n",
    "plot(samples_routing)"
   ]
  },
  {
   "cell_type": "code",
   "execution_count": null,
   "metadata": {},
   "outputs": [],
   "source": [
    "if routing_accuracy > qd_acceptance_targets[\"ACCEPTANCE_ACCURACY_1_PHOTON_ROUTING\"]:\n",
    "    print(\"Acceptance test passed for 1 photon routing accuracy: PASS\")\n",
    "else:\n",
    "    print(\"Acceptance test passed for 1 photon routing accuracy: FAIL\")"
   ]
  },
  {
   "cell_type": "markdown",
   "metadata": {},
   "source": [
    "## A1.3 Two Photon Rate Acceptance Test\n",
    "The following cells evaluate the rate of two-photon samples returned by the machine."
   ]
  },
  {
   "cell_type": "code",
   "execution_count": null,
   "metadata": {},
   "outputs": [],
   "source": [
    "input_state_2_photons = (1, 1, 0, 0)\n",
    "theta_list_2_photons = [0, 0, 0]\n",
    "\n",
    "outputs_2_photons = estimate_statistics(\n",
    "    tbi = qd_rack_tbi,\n",
    "    input_state = input_state_2_photons,\n",
    "    theta_list = theta_list_2_photons,\n",
    "    n_samples = N_SAMPLES[2],\n",
    "    overhead_time = overhead_time_with_margin\n",
    ")\n",
    "\n",
    "n_samples_collected_2_photons = outputs_2_photons[0]\n",
    "rates_2_photons = outputs_2_photons[1]\n",
    "accuracy_2_photons = outputs_2_photons[2]\n",
    "request_time_2_photons = outputs_2_photons[3]\n",
    "samples_2_photons = outputs_2_photons[4]\n",
    "\n",
    "print(\"============= 2 Photon Data ======================\")\n",
    "print(f\"{n_samples_collected_2_photons} samples collected in {request_time_2_photons:.2f} seconds\")\n",
    "print(f\"2 photon rate is {rates_2_photons:.0f} Hz\")\n",
    "print(f\"2 photon accuracy is {accuracy_2_photons:.0f} %\")\n",
    "plot(samples_2_photons)"
   ]
  },
  {
   "cell_type": "code",
   "execution_count": null,
   "metadata": {},
   "outputs": [],
   "source": [
    "if rates_2_photons > qd_acceptance_targets[\"ACCEPTANCE_RATES_2_PHOTON\"]:\n",
    "    print(\"Acceptance test passed for 2 photon rate: PASS\")\n",
    "else:\n",
    "    print(\"Acceptance test passed for 2 photon rate: FAIL\")\n",
    "\n",
    "if accuracy_2_photons > qd_acceptance_targets[\"ACCEPTANCE_ACCURACY_2_PHOTON\"]:\n",
    "    print(\"Acceptance test passed for 2 photon accuracy: PASS\")\n",
    "else:\n",
    "    print(\"Acceptance test passed for 2 photon accuracy: FAIL\")"
   ]
  },
  {
   "cell_type": "markdown",
   "metadata": {},
   "source": [
    "## A1.4 Three Photon Rate Acceptance Test"
   ]
  },
  {
   "cell_type": "code",
   "execution_count": null,
   "metadata": {},
   "outputs": [],
   "source": [
    "input_state_3_photons = (1,1,1,0)\n",
    "theta_list_3_photons = [0,0,0]\n",
    "\n",
    "outputs_3_photons = estimate_statistics(\n",
    "    tbi = qd_rack_tbi,\n",
    "    input_state = input_state_3_photons,\n",
    "    theta_list = theta_list_3_photons,\n",
    "    n_samples = N_SAMPLES[3],\n",
    "    overhead_time = overhead_time_with_margin\n",
    ")\n",
    "\n",
    "n_samples_collected_3_photons = outputs_3_photons[0]\n",
    "rates_3_photons = outputs_3_photons[1]\n",
    "accuracy_3_photons = outputs_3_photons[2]\n",
    "request_time_3_photons = outputs_3_photons[3]\n",
    "samples_3_photons = outputs_3_photons[4]\n",
    "\n",
    "print(\"============= 3 Photon Data ======================\")\n",
    "print(f\"{n_samples_collected_3_photons} samples collected in {request_time_3_photons:.2f} seconds\")\n",
    "print(f\"3 photon rate is {rates_3_photons:.2f} Hz\")"
   ]
  },
  {
   "cell_type": "code",
   "execution_count": null,
   "metadata": {},
   "outputs": [],
   "source": [
    "if rates_3_photons > qd_acceptance_targets[\"ACCEPTANCE_RATES_3_PHOTON\"]:\n",
    "    print(\"Acceptance test passed for 3 photon rate: PASS\")\n",
    "else:\n",
    "    print(\"Acceptance test passed for 3 photon rate: FAIL\")"
   ]
  },
  {
   "cell_type": "markdown",
   "metadata": {},
   "source": [
    "## A1.5 Four Photon Rate Acceptance Test"
   ]
  },
  {
   "cell_type": "code",
   "execution_count": null,
   "metadata": {},
   "outputs": [],
   "source": [
    "input_state_4_photons = (1,1,1,1)\n",
    "theta_list_4_photons = [0,0,0]\n",
    "\n",
    "outputs_4_photons = estimate_statistics(\n",
    "    tbi = qd_rack_tbi,\n",
    "    input_state = input_state_4_photons,\n",
    "    theta_list = theta_list_4_photons,\n",
    "    n_samples = N_SAMPLES[4],\n",
    "    overhead_time = overhead_time_with_margin\n",
    ")\n",
    "\n",
    "n_samples_collected_4_photons = outputs_4_photons[0]\n",
    "rates_4_photons = outputs_4_photons[1]\n",
    "accuracy_4_photons = outputs_4_photons[2]\n",
    "request_time_4_photons = outputs_4_photons[3]\n",
    "samples_4_photons = outputs_4_photons[4]\n",
    "\n",
    "print(\"============= 4 Photon Data ======================\")\n",
    "print(f\"{n_samples_collected_4_photons} samples collected in {request_time_4_photons:.2f} seconds\")\n",
    "print(f\"4 photon rate is {rates_4_photons:.3f} Hz\")"
   ]
  },
  {
   "cell_type": "code",
   "execution_count": null,
   "metadata": {},
   "outputs": [],
   "source": [
    "if rates_4_photons > qd_acceptance_targets[\"ACCEPTANCE_RATES_4_PHOTON\"]:\n",
    "    print(\"Acceptance test passed for 4 photon rate: PASS\")\n",
    "else:\n",
    "    print(\"Acceptance test passed for 4 photon rate: FAIL\")"
   ]
  },
  {
   "cell_type": "markdown",
   "metadata": {},
   "source": [
    "# A2 Heralded Single Photon Source Acceptance Tests\n",
    "The following cells will test the performance of the Quantum Dot light source Boson Sampling System."
   ]
  },
  {
   "cell_type": "code",
   "execution_count": null,
   "metadata": {},
   "outputs": [],
   "source": []
  }
 ],
 "metadata": {
  "kernelspec": {
   "display_name": "my_env",
   "language": "python",
   "name": "python3"
  },
  "language_info": {
   "codemirror_mode": {
    "name": "ipython",
    "version": 3
   },
   "file_extension": ".py",
   "mimetype": "text/x-python",
   "name": "python",
   "nbconvert_exporter": "python",
   "pygments_lexer": "ipython3",
   "version": "3.9.13"
  }
 },
 "nbformat": 4,
 "nbformat_minor": 4
}
